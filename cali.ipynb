{
 "cells": [
  {
   "cell_type": "markdown",
   "metadata": {},
   "source": [
    "## Energy calibration"
   ]
  },
  {
   "cell_type": "code",
   "execution_count": 1,
   "metadata": {},
   "outputs": [],
   "source": [
    "#include <iostream>\n",
    "#include <map>\n",
    "\n",
    "using namespace std;"
   ]
  },
  {
   "cell_type": "code",
   "execution_count": 2,
   "metadata": {},
   "outputs": [
    {
     "name": "stdout",
     "output_type": "stream",
     "text": [
      "******************************************************************************\n",
      "*Tree    :tree      : tree                                                   *\n",
      "*Entries :   690749 : Total =        19397029 bytes  File  Size =    5492309 *\n",
      "*        :          : Tree compression factor =   3.53                       *\n",
      "******************************************************************************\n",
      "*Br    0 :e         : e/D                                                    *\n",
      "*Entries :   690749 : Total  Size=    5541601 bytes  File Size  =    1993333 *\n",
      "*Baskets :      174 : Basket Size=      32000 bytes  Compression=   2.78     *\n",
      "*............................................................................*\n",
      "*Br    1 :ts        : ts/l                                                   *\n",
      "*Entries :   690749 : Total  Size=    5541779 bytes  File Size  =    3179230 *\n",
      "*Baskets :      174 : Basket Size=      32000 bytes  Compression=   1.74     *\n",
      "*............................................................................*\n",
      "*Br    2 :str       : str/I                                                  *\n",
      "*Entries :   690749 : Total  Size=    2771123 bytes  File Size  =     265235 *\n",
      "*Baskets :       87 : Basket Size=      32000 bytes  Compression=  10.44     *\n",
      "*............................................................................*\n",
      "*Br    3 :det       : det/I                                                  *\n",
      "*Entries :   690749 : Total  Size=    2771123 bytes  File Size  =      27465 *\n",
      "*Baskets :       87 : Basket Size=      32000 bytes  Compression= 100.82     *\n",
      "*............................................................................*\n",
      "*Br    4 :fr        : fr/I                                                   *\n",
      "*Entries :   690749 : Total  Size=    2771032 bytes  File Size  =      21725 *\n",
      "*Baskets :       87 : Basket Size=      32000 bytes  Compression= 127.46     *\n",
      "*............................................................................*\n"
     ]
    }
   ],
   "source": [
    "//get data from 335 file\n",
    "TFile *ipf = new TFile(\"~/data/cali00335.root\");\n",
    "TTree *tree = (TTree*)ipf->Get(\"tree\");\n",
    "TCanvas *c1=new TCanvas(\"c1\",\"c1\");\n",
    "Double_t e;\n",
    "ULong64_t ts;\n",
    "Int_t fr,str,det;\n",
    "tree->SetBranchAddress(\"e\",&e);\n",
    "tree->SetBranchAddress(\"ts\",&ts);\n",
    "tree->SetBranchAddress(\"fr\",&fr);\n",
    "tree->SetBranchAddress(\"str\",&str);\n",
    "tree->SetBranchAddress(\"det\",&det);\n",
    "tree->Print();"
   ]
  },
  {
   "cell_type": "code",
   "execution_count": 3,
   "metadata": {},
   "outputs": [],
   "source": [
    "TFile *opf = new TFile(\"norm335.root\",\"recreate\");//output file\n",
    "TTree *tr = new TTree(\"tree\",\"tree\");\n",
    "Double_t xpar[128][3],ypar[48][3];\n",
    "tr->Branch(\"e\",&e,\"e/D\");\n",
    "tr->Branch(\"ts\",&ts,\"ts/l\");\n",
    "tr->Branch(\"str\",&str,\"str/I\");\n",
    "tr->Branch(\"det\",&det,\"det/I\");\n",
    "tr->Branch(\"fr\",&fr,\"fr/I\");"
   ]
  },
  {
   "cell_type": "code",
   "execution_count": 4,
   "metadata": {},
   "outputs": [],
   "source": [
    "//read the parameters\n",
    "ifstream in(\"fbnorm.txt\");\n",
    "Int_t ch;\n",
    "Double_t xp,yp,zp;"
   ]
  },
  {
   "cell_type": "code",
   "execution_count": 5,
   "metadata": {},
   "outputs": [
    {
     "name": "stdout",
     "output_type": "stream",
     "text": [
      "0 2.29881 0.917899 -2.03832e-07\n",
      "1 3.16126 0.911864 -1.26747e-07\n",
      "2 2.4341 0.912291 -2.00395e-07\n",
      "3 2.01177 0.90818 -1.6125e-07\n",
      "4 7.43186 0.925972 2.87218e-07\n",
      "5 1.41026 0.918927 -3.14154e-07\n",
      "6 4.20528 0.914695 4.04147e-08\n",
      "7 -0.746931 0.918769 -3.48177e-07\n",
      "8 1.36437 0.919556 -2.34289e-07\n",
      "9 -0.49336 0.927838 -3.75002e-07\n",
      "10 1.05649 0.917418 -1.6765e-07\n",
      "11 1.40403 0.907038 -3.89818e-07\n",
      "12 3.30252 0.908879 -1.22602e-07\n",
      "13 2.94765 0.91629 -2.31136e-07\n",
      "14 3.08637 0.911849 1.44572e-07\n",
      "15 5.15192 0.893442 -2.58417e-08\n",
      "16 0.955283 0.89586 -1.1341e-07\n",
      "17 2.95876 1.19546 -8.1845e-08\n",
      "18 1.23908 1.23219 -3.81144e-07\n",
      "19 3.82172 1.21755 9.89828e-08\n",
      "20 1.31837 1.21353 -3.56752e-07\n",
      "21 4.58697 1.22661 3.09601e-07\n",
      "22 2.51155 1.22807 -1.50467e-07\n",
      "23 0.399821 1.20591 -9.39462e-07\n",
      "24 2.90446 1.16044 9.32343e-08\n",
      "25 6.16088 1.20215 6.77407e-07\n",
      "26 1.71196 1.21903 -2.81041e-07\n",
      "27 1.68197 1.21967 -4.42748e-07\n",
      "28 3.59816 1.21683 -2.22836e-07\n",
      "29 3.61847 1.22572 3.03388e-09\n",
      "30 3.63764 1.20247 -1.83222e-07\n",
      "31 0.580286 1.21529 -3.90603e-07\n",
      "32 0.0723329 1.19997 -4.07622e-07\n",
      "33 2.31672 0.913374 -1.99666e-07\n",
      "34 2.63568 0.901683 -1.86838e-07\n",
      "35 2.02901 0.91339 -9.8389e-08\n",
      "36 1.89972 0.909797 -2.02415e-07\n",
      "37 4.71612 0.910448 -7.1263e-08\n",
      "38 2.49045 0.902789 -1.15758e-07\n",
      "39 2.63715 0.910366 1.32469e-08\n",
      "40 0.0161076 0.918949 -3.09904e-07\n",
      "41 0.26024 0.905697 -2.86281e-07\n",
      "42 1.59801 0.913237 -1.31469e-07\n",
      "43 1.82327 0.926821 -2.73865e-07\n",
      "44 1.37278 0.918124 -3.75036e-07\n",
      "45 3.94769 1.01433 -8.47198e-08\n",
      "46 2.8266 0.910474 -8.73658e-08\n",
      "47 3.19324 0.901243 -1.22951e-07\n",
      "48 4.06496 0.908745 3.08407e-08\n",
      "49 1.7705 0.906712 -9.77648e-08\n",
      "50 0.542354 0.895213 -2.66844e-07\n",
      "51 0.8014 0.911657 -2.11283e-07\n",
      "52 0.899226 0.909348 -1.53212e-07\n",
      "53 1.10015 0.909793 -2.27204e-07\n",
      "54 0.0576971 0.914937 -2.47209e-07\n",
      "55 3.84276 0.914074 -1.2268e-07\n",
      "56 0.235375 0.904169 -2.71713e-07\n",
      "57 2.59519 0.902856 -1.30466e-07\n",
      "58 3.57246 0.923334 -5.16099e-08\n",
      "59 2.51489 0.907271 -1.1568e-07\n",
      "60 0.195883 0.93153 -2.07407e-07\n",
      "61 -0.127936 0.917 -2.6736e-07\n",
      "62 1.11308 0.926966 -2.57815e-07\n",
      "63 1.74093 0.901153 -1.66798e-07\n",
      "64 2.59228 0.919306 -4.93883e-08\n",
      "65 2.1382 0.91034 -7.95881e-08\n",
      "66 1.74454 0.889082 -1.08424e-07\n",
      "67 5.54373 0.902903 5.16798e-08\n",
      "68 1.53868 0.912113 -2.12008e-07\n",
      "69 3.23751 0.896962 -1.5583e-07\n",
      "70 1.79883 0.894402 -1.50055e-07\n",
      "71 3.36351 0.90441 -7.81976e-08\n",
      "72 3.70339 0.917193 -1.3959e-08\n",
      "73 3.11124 0.908861 -1.06264e-07\n",
      "74 2.02936 0.910523 -1.48253e-07\n",
      "75 4.60092 0.908102 -5.24055e-08\n",
      "76 1.84144 0.898663 -1.52986e-07\n",
      "77 1.64798 0.915176 -1.31169e-07\n",
      "78 2.04677 0.908273 -1.36823e-07\n",
      "79 0.264872 0.906897 -1.76895e-07\n",
      "80 2.27078 0.907005 -1.50735e-07\n",
      "81 2.02362 0.916399 -1.50982e-07\n",
      "82 3.61486 0.904012 -6.35652e-08\n",
      "83 2.99589 0.899523 -4.638e-08\n",
      "84 3.05608 0.916344 -8.97128e-08\n",
      "85 2.19506 0.909791 -1.38119e-07\n",
      "86 3.04743 0.913749 -9.46554e-08\n",
      "87 2.90828 0.914421 -1.10205e-07\n",
      "88 3.20776 0.890265 -6.95197e-08\n",
      "89 2.23408 0.908113 -9.43836e-08\n",
      "90 0.362995 0.914297 -2.28011e-07\n",
      "91 2.53307 0.912916 -1.203e-07\n",
      "92 2.96278 0.891375 -1.19725e-07\n",
      "93 2.93363 0.906243 -6.73123e-08\n",
      "94 2.6245 0.90638 -8.20131e-08\n",
      "95 2.89233 0.918932 -9.62069e-08\n",
      "96 2.14845 0.916056 -1.02645e-07\n",
      "97 2.45706 0.908485 -1.91401e-07\n",
      "98 1.86753 0.916859 -1.73386e-07\n",
      "99 2.78139 0.907426 -1.06694e-07\n",
      "100 2.97065 0.912172 -4.57379e-08\n",
      "101 -0.0675078 0.904863 -2.0643e-07\n",
      "102 2.00324 0.914159 -1.43699e-07\n",
      "103 1.39882 0.888835 -1.73441e-07\n",
      "104 3.77134 0.919162 -8.44127e-08\n",
      "105 2.11401 0.906358 -9.85974e-08\n",
      "106 2.02434 0.903096 -1.49906e-07\n",
      "107 1.62397 0.91675 -1.74852e-07\n",
      "108 1.03186 0.918229 -1.82215e-07\n",
      "109 3.62264 0.901118 -5.57388e-08\n",
      "110 4.39071 0.90085 -5.62331e-09\n",
      "111 1.15714 0.913724 -1.71065e-07\n",
      "112 1.59445 1.01399 -1.99684e-07\n",
      "113 3.74971 0.9934 -8.81909e-08\n",
      "114 2.57711 0.999389 -7.44722e-08\n",
      "115 1.91714 1.00448 -2.09306e-07\n",
      "116 4.8486 1.00856 -7.79232e-08\n",
      "117 2.37573 1.01429 -1.98428e-07\n",
      "118 2.21082 1.01081 -1.47688e-07\n",
      "119 1.90197 0.978067 -2.18825e-07\n",
      "120 2.43009 0.990477 -7.97121e-08\n",
      "121 -0.296457 1.01074 -2.69038e-07\n",
      "122 4.05158 0.998364 -4.15531e-08\n",
      "123 3.28706 1.00301 -1.77337e-07\n",
      "124 0.729949 0.99765 -1.98257e-07\n",
      "125 1.94345 1.00917 -1.36431e-07\n",
      "126 0.518422 1.0128 -2.83253e-07\n",
      "127 2.31748 1.01166 -1.43342e-07\n",
      "128 1.25007 1.35894 1.22148e-07\n",
      "129 4.1865 1.03206 1.11875e-07\n",
      "130 1.83853 1.02775 2.45789e-08\n",
      "131 0.927733 1.0216 -4.01039e-08\n",
      "132 2.05924 1.01058 -3.70881e-08\n",
      "133 2.68027 1.01625 4.97172e-08\n",
      "134 0.362378 1.01373 7.77902e-09\n",
      "135 0.675666 1.00473 -6.5638e-09\n",
      "136 1.0624 1.00215 -4.09297e-08\n",
      "137 1.27948 0.991509 1.31006e-08\n",
      "138 1.37267 0.998798 -1.61428e-08\n",
      "139 0.712569 1.0235 -3.22534e-08\n",
      "140 0.044288 1.01865 -4.99947e-08\n",
      "141 0.0849525 1.00332 -3.87818e-08\n",
      "142 2.94058 1.01382 7.74251e-08\n",
      "143 0.32888 1.02121 -2.03668e-08\n",
      "144 0.568893 1.01592 -3.09522e-08\n",
      "145 0.885366 0.998018 2.97085e-08\n",
      "146 1.98966 1.01956 -3.66817e-09\n",
      "147 1.94526 0.99596 4.38555e-08\n",
      "148 1.65726 1.02285 3.31623e-08\n",
      "149 0.898459 1.01429 -4.20971e-08\n",
      "150 0.930493 1.0142 1.07031e-08\n",
      "151 2.35672 0.999746 2.12829e-08\n",
      "152 0.0724656 0.999977 1.13645e-09\n",
      "153 1.53518 1.02259 -5.88824e-09\n",
      "154 1.36213 0.992208 -3.97241e-08\n",
      "155 1.56097 1.01208 -1.68405e-08\n",
      "156 2.41151 1.0126 -1.84667e-08\n",
      "157 0.527855 1.01459 7.98188e-09\n",
      "158 1.17556 1.01406 -5.78783e-09\n",
      "159 1.94973 1.01142 3.79919e-08\n",
      "160 1.96114 1.01277 -1.25718e-08\n",
      "161 2.15054 1.35678 5.43599e-08\n",
      "162 2.23432 1.3587 -5.43649e-08\n",
      "163 0.492891 1.35411 1.68457e-08\n",
      "164 1.08581 1.35683 -3.50988e-08\n",
      "165 1.26919 1.35445 9.76179e-10\n",
      "166 0.695592 1.38487 -4.75975e-08\n",
      "167 2.34146 1.34643 3.73435e-08\n",
      "168 0.440778 1.35664 -5.20086e-08\n",
      "169 3.8524 1.36802 1.18804e-07\n",
      "170 1.7805 1.35623 8.28623e-08\n",
      "171 3.24183 1.34868 4.15211e-08\n",
      "172 1.48364 1.3575 -8.49604e-08\n",
      "173 1.60661 1.3307 9.47526e-08\n",
      "174 2.26241 1.33695 1.0656e-08\n",
      "175 2.22332 1.36377 8.07212e-08\n"
     ]
    }
   ],
   "source": [
    "while(1){\n",
    "    in>>ch>>xp>>yp>>zp;\n",
    "    if(!in.good()) break;\n",
    "    if(ch<128) {\n",
    "        xpar[ch][0]=xp;\n",
    "        xpar[ch][1]=yp;\n",
    "        xpar[ch][2]=zp;\n",
    "        cout<<ch<<\" \"<<xp<<\" \"<<yp<<\" \"<<zp<<endl;\n",
    "    }\n",
    "    else{\n",
    "        ypar[ch][0]=xp;\n",
    "        ypar[ch][1]=yp;\n",
    "        ypar[ch][2]=zp;        \n",
    "        cout<<ch<<\" \"<<xp<<\" \"<<yp<<\" \"<<zp<<endl;\n",
    "    }\n",
    "    \n",
    "}"
   ]
  },
  {
   "cell_type": "code",
   "execution_count": 6,
   "metadata": {},
   "outputs": [
    {
     "name": "stdout",
     "output_type": "stream",
     "text": [
      "**********************************************************************"
     ]
    }
   ],
   "source": [
    "for(Int_t i=0;i<tree->GetEntriesFast();i++){\n",
    "    tree->GetEntry(i);\n",
    "    if(det==4) continue;\n",
    "    if(det==2&&fr==2) e=xpar[str][0]+xpar[str][1]*e+xpar[str][2]*e*e;\n",
    "    if(det==2&&fr==1) e=ypar[str][0]+ypar[str][1]*e+ypar[str][2]*e*e;\n",
    "    tr->Fill();\n",
    "    if(i%10000==0) cout<<\"*\";\n",
    "}\n",
    "tr->Write();\n",
    "opf->Close();"
   ]
  },
  {
   "cell_type": "markdown",
   "metadata": {},
   "source": [
    "## inspecting the normalized results"
   ]
  },
  {
   "cell_type": "code",
   "execution_count": 7,
   "metadata": {},
   "outputs": [
    {
     "name": "stdout",
     "output_type": "stream",
     "text": [
      "******************************************************************************\n",
      "*Tree    :tree      : tree                                                   *\n",
      "*Entries :   690749 : Total =        19397029 bytes  File  Size =    5885268 *\n",
      "*        :          : Tree compression factor =   3.30                       *\n",
      "******************************************************************************\n",
      "*Br    0 :e         : e/D                                                    *\n",
      "*Entries :   690749 : Total  Size=    5541601 bytes  File Size  =    2386344 *\n",
      "*Baskets :      174 : Basket Size=      32000 bytes  Compression=   2.32     *\n",
      "*............................................................................*\n",
      "*Br    1 :ts        : ts/l                                                   *\n",
      "*Entries :   690749 : Total  Size=    5541779 bytes  File Size  =    3179230 *\n",
      "*Baskets :      174 : Basket Size=      32000 bytes  Compression=   1.74     *\n",
      "*............................................................................*\n",
      "*Br    2 :str       : str/I                                                  *\n",
      "*Entries :   690749 : Total  Size=    2771123 bytes  File Size  =     265235 *\n",
      "*Baskets :       87 : Basket Size=      32000 bytes  Compression=  10.44     *\n",
      "*............................................................................*\n",
      "*Br    3 :det       : det/I                                                  *\n",
      "*Entries :   690749 : Total  Size=    2771123 bytes  File Size  =      27465 *\n",
      "*Baskets :       87 : Basket Size=      32000 bytes  Compression= 100.82     *\n",
      "*............................................................................*\n",
      "*Br    4 :fr        : fr/I                                                   *\n",
      "*Entries :   690749 : Total  Size=    2771032 bytes  File Size  =      21725 *\n",
      "*Baskets :       87 : Basket Size=      32000 bytes  Compression= 127.46     *\n",
      "*............................................................................*\n"
     ]
    }
   ],
   "source": [
    "//get data from norm335.root file\n",
    "ipf = new TFile(\"./norm335.root\");\n",
    "tree = (TTree*)ipf->Get(\"tree\");\n",
    "tree->SetBranchAddress(\"e\",&e);\n",
    "tree->SetBranchAddress(\"ts\",&ts);\n",
    "tree->SetBranchAddress(\"fr\",&fr);\n",
    "tree->SetBranchAddress(\"str\",&str);\n",
    "tree->SetBranchAddress(\"det\",&det);\n",
    "tree->Print();"
   ]
  },
  {
   "cell_type": "code",
   "execution_count": 8,
   "metadata": {},
   "outputs": [
    {
     "data": {
      "image/png": "[encoded data removed]",
      "text/plain": [
       "<IPython.core.display.Image object>"
      ]
     },
     "metadata": {},
     "output_type": "display_data"
    }
   ],
   "source": [
    "tree->Draw(\"e>>h(500,2000,3000)\",\"det==2&&fr==2\");\n",
    "c1->Draw();"
   ]
  },
  {
   "cell_type": "markdown",
   "metadata": {},
   "source": [
    "## find peaks and calibration"
   ]
  },
  {
   "cell_type": "code",
   "execution_count": 9,
   "metadata": {},
   "outputs": [],
   "source": [
    "//output variable\n",
    "TH1F *h=NULL,*hb=NULL;\n",
    "Int_t nfound;\n",
    "Double_t *xpeaks=NULL, *ypeaks=NULL;\n",
    "TSpectrum *s=NULL;"
   ]
  },
  {
   "cell_type": "code",
   "execution_count": 10,
   "metadata": {},
   "outputs": [],
   "source": [
    "void peaks(TString hname, Double_t thres=0.35,int backsub=1)\n",
    "{\n",
    "  h=(TH1F*)gROOT->FindObject(hname);\n",
    "  if(!s) s=new TSpectrum(500);\n",
    "  if(backsub) {\n",
    "    hb=(TH1F*)s->Background(h,80,\"same\");\n",
    "    h->Add(h,hb,1,-1);   \n",
    "  }\n",
    "  nfound=s->Search(h,2,\"\",thres); \n",
    "  TPolyMarker *pm=(TPolyMarker *)\n",
    "    h->GetListOfFunctions()->FindObject(\"TPolyMarker\");\n",
    "  pm->SetMarkerStyle(32);\n",
    "  pm->SetMarkerColor(kRed);\n",
    "  pm->SetMarkerSize(0.4);\n",
    "  xpeaks=s->GetPositionX();\n",
    "  ypeaks=s->GetPositionY();\n",
    "  for(int j=0;j<nfound;j++) {\n",
    "    stringstream ss;\n",
    "    ss<<xpeaks[j];\n",
    "    TString s1=ss.str();\n",
    "    TLatex *tex=new TLatex(xpeaks[j],ypeaks[j],s1);\n",
    "    cout<<j+1<<\"  \"<<xpeaks[j]<<endl;\n",
    "    tex->SetTextFont(13);\n",
    "    tex->SetTextSize(14);\n",
    "    tex->SetTextAlign(12);\n",
    "    tex->SetTextAngle(90);\n",
    "    tex->SetTextColor(kRed);\n",
    "    tex->Draw();\n",
    "  }\n",
    "}"
   ]
  },
  {
   "cell_type": "code",
   "execution_count": 11,
   "metadata": {},
   "outputs": [
    {
     "name": "stdout",
     "output_type": "stream",
     "text": [
      "1  2495\n",
      "2  2401\n",
      "3  2445\n",
      "4  2533\n",
      "5  2699\n"
     ]
    }
   ],
   "source": [
    "peaks(\"h\");"
   ]
  },
  {
   "cell_type": "code",
   "execution_count": 12,
   "metadata": {},
   "outputs": [
    {
     "data": {
      "image/png": "[encoded data removed]",
      "text/plain": [
       "<IPython.core.display.Image object>"
      ]
     },
     "metadata": {},
     "output_type": "display_data"
    }
   ],
   "source": [
    "c1->Draw();"
   ]
  },
  {
   "cell_type": "code",
   "execution_count": 13,
   "metadata": {},
   "outputs": [],
   "source": [
    "double xx[5];\n",
    "double par[15];\n",
    "Double_t epeaks[5]={6909,6646,6767,7016,7477};\n",
    "TF1 *fg=new TF1(\"fg\",\"gaus\");\n",
    "TF1 *fg3=new TF1(\"fg3\",\"gaus(0)+gaus(3)+gaus(6)+gaus(9)+gaus(12)+gaus(15)\",xpeaks[1]-10,xpeaks[4]+10);"
   ]
  },
  {
   "cell_type": "code",
   "execution_count": 14,
   "metadata": {},
   "outputs": [
    {
     "data": {
      "image/png": "[encoded data removed]",
      "text/plain": [
       "<IPython.core.display.Image object>"
      ]
     },
     "metadata": {},
     "output_type": "display_data"
    },
    {
     "name": "stdout",
     "output_type": "stream",
     "text": [
      "1  2494.88  2495\n",
      "2  2399.99  2401\n",
      "3  2446.02  2445\n",
      "4  2533.49  2533\n",
      "5  2697.89  2699\n"
     ]
    }
   ],
   "source": [
    "//fit the peaks using gaus function\n",
    "c1->Clear();\n",
    "for(int i=0;i<5;i++) {\n",
    "    fg->SetParameters(ypeaks[i],xpeaks[i],5);//constant, mean, sigma\n",
    "    h->Fit(fg,\"Q\",\"\",xpeaks[i]-10,xpeaks[i]+10);\n",
    "    xx[i]=fg->GetParameter(1);\n",
    "    fg->GetParameters(&par[i*3]);\n",
    "    cout<<i+1<<\"  \"<<xx[i]<<\"  \"<<xpeaks[i]<<endl;\n",
    "}\n",
    "fg3->SetParameters(par);\n",
    "fg3->Draw(\"same\");\n",
    "c1->Draw();"
   ]
  },
  {
   "cell_type": "code",
   "execution_count": 15,
   "metadata": {},
   "outputs": [],
   "source": [
    "TGraph *gp=new TGraph;\n",
    "TF1 *fp=new TF1(\"fp\",\"pol1\");\n",
    "Double_t fpar[2];\n",
    "TH1F *hsum = new TH1F(\"hsum\",\"back side spectrum\",500,6000,8000);"
   ]
  },
  {
   "cell_type": "code",
   "execution_count": 16,
   "metadata": {},
   "outputs": [
    {
     "data": {
      "image/png": "[encoded data removed]",
      "text/plain": [
       "<IPython.core.display.Image object>"
      ]
     },
     "metadata": {},
     "output_type": "display_data"
    },
    {
     "name": "stdout",
     "output_type": "stream",
     "text": [
      "\n",
      "****************************************\n",
      "Minimizer is Linear\n",
      "Chi2                      =      32.2455\n",
      "NDf                       =            3\n",
      "p0                        =     -75.0199   +/-   36.1185     \n",
      "p1                        =      2.79903   +/-   0.0143525   \n"
     ]
    }
   ],
   "source": [
    "for(int i=0;i<5;i++)\n",
    "    gp->SetPoint(i,xx[i],epeaks[i]);\n",
    "gp->Fit(fp);\n",
    "fp->GetParameters(&fpar[0]);\n",
    "gp->Draw(\"AP*\");\n",
    "c1->Draw();"
   ]
  },
  {
   "cell_type": "code",
   "execution_count": 17,
   "metadata": {},
   "outputs": [],
   "source": [
    "opf = new TFile(\"cali335.root\",\"recreate\");//output file\n",
    "tr = new TTree(\"tree\",\"tree\");\n",
    "tr->Branch(\"e\",&e,\"e/D\");\n",
    "tr->Branch(\"ts\",&ts,\"ts/l\");\n",
    "tr->Branch(\"str\",&str,\"str/I\");\n",
    "tr->Branch(\"det\",&det,\"det/I\");\n",
    "tr->Branch(\"fr\",&fr,\"fr/I\");"
   ]
  },
  {
   "cell_type": "code",
   "execution_count": 18,
   "metadata": {},
   "outputs": [
    {
     "name": "stdout",
     "output_type": "stream",
     "text": [
      "**********************************************************************"
     ]
    }
   ],
   "source": [
    "for(Int_t i=0;i<tree->GetEntriesFast();i++){\n",
    "    tree->GetEntry(i);\n",
    "    if(det==4) continue;\n",
    "    e=fpar[0]+fpar[1]*e;\n",
    "    tr->Fill();\n",
    "    if(i%10000==0) cout<<\"*\";\n",
    "    if(det==2&&fr==2)hsum->Fill(e);\n",
    "}\n",
    "tr->Write();\n",
    "opf->Close();"
   ]
  },
  {
   "cell_type": "markdown",
   "metadata": {},
   "source": []
  },
  {
   "cell_type": "markdown",
   "metadata": {},
   "source": [
    "## calibrated spectrum"
   ]
  },
  {
   "cell_type": "code",
   "execution_count": 20,
   "metadata": {},
   "outputs": [
    {
     "data": {
      "image/png": "[encoded data removed]",
      "text/plain": [
       "<IPython.core.display.Image object>"
      ]
     },
     "metadata": {},
     "output_type": "display_data"
    }
   ],
   "source": [
    "hsum->Draw();\n",
    "c1->Draw();"
   ]
  },
  {
   "cell_type": "code",
   "execution_count": null,
   "metadata": {},
   "outputs": [],
   "source": []
  }
 ],
 "metadata": {
  "kernelspec": {
   "display_name": "ROOT C++",
   "language": "c++",
   "name": "root"
  },
  "language_info": {
   "codemirror_mode": "text/x-c++src",
   "file_extension": ".C",
   "mimetype": " text/x-c++src",
   "name": "c++"
  }
 },
 "nbformat": 4,
 "nbformat_minor": 2
}
