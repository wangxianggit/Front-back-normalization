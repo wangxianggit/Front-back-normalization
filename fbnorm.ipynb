{
 "cells": [
  {
   "cell_type": "markdown",
   "metadata": {},
   "source": [
    "## Front-back normalization"
   ]
  },
  {
   "cell_type": "code",
   "execution_count": 1,
   "metadata": {},
   "outputs": [],
   "source": [
    "#include \"cali.h\""
   ]
  },
  {
   "cell_type": "code",
   "execution_count": 2,
   "metadata": {
    "scrolled": true
   },
   "outputs": [
    {
     "name": "stdout",
     "output_type": "stream",
     "text": [
      "******************************************************************************\n",
      "*Tree    :tree      : tree                                                   *\n",
      "*Entries :   206033 : Total =        37052814 bytes  File  Size =    6210616 *\n",
      "*        :          : Tree compression factor =   5.97                       *\n",
      "******************************************************************************\n",
      "*Br    0 :xhit      : xhit/I                                                 *\n",
      "*Entries :   206033 : Total  Size=     826799 bytes  File Size  =      31118 *\n",
      "*Baskets :       26 : Basket Size=      32000 bytes  Compression=  26.54     *\n",
      "*............................................................................*\n",
      "*Br    1 :yhit      : yhit/I                                                 *\n",
      "*Entries :   206033 : Total  Size=     826799 bytes  File Size  =      67478 *\n",
      "*Baskets :       26 : Basket Size=      32000 bytes  Compression=  12.24     *\n",
      "*............................................................................*\n",
      "*Br    2 :x         : x[xhit]/I                                              *\n",
      "*Entries :   206033 : Total  Size=    1724073 bytes  File Size  =     621404 *\n",
      "*Baskets :       80 : Basket Size=      32000 bytes  Compression=   2.77     *\n",
      "*............................................................................*\n",
      "*Br    3 :y         : y[yhit]/I                                              *\n",
      "*Entries :   206033 : Total  Size=    3374409 bytes  File Size  =     518188 *\n",
      "*Baskets :      132 : Basket Size=      32000 bytes  Compression=   6.51     *\n",
      "*............................................................................*\n",
      "*Br    4 :xe        : xe[xhit]/D                                             *\n",
      "*Entries :   206033 : Total  Size=    2618780 bytes  File Size  =     838139 *\n",
      "*Baskets :      108 : Basket Size=      32000 bytes  Compression=   3.12     *\n",
      "*............................................................................*\n",
      "*Br    5 :ye        : ye[yhit]/D                                             *\n",
      "*Entries :   206033 : Total  Size=    5919459 bytes  File Size  =     739265 *\n",
      "*Baskets :      211 : Basket Size=      32000 bytes  Compression=   8.00     *\n",
      "*............................................................................*\n",
      "*Br    6 :xt        : xt[xhit]/l                                             *\n",
      "*Entries :   206033 : Total  Size=    2618780 bytes  File Size  =    1152105 *\n",
      "*Baskets :      108 : Basket Size=      32000 bytes  Compression=   2.27     *\n",
      "*............................................................................*\n",
      "*Br    7 :yt        : yt[yhit]/l                                             *\n",
      "*Entries :   206033 : Total  Size=    5919459 bytes  File Size  =    1000189 *\n",
      "*Baskets :      211 : Basket Size=      32000 bytes  Compression=   5.91     *\n",
      "*............................................................................*\n",
      "*Br    8 :ve        : ve[3]/D                                                *\n",
      "*Entries :   206033 : Total  Size=    4958894 bytes  File Size  =      45988 *\n",
      "*Baskets :      155 : Basket Size=      32000 bytes  Compression= 107.76     *\n",
      "*............................................................................*\n",
      "*Br    9 :vt        : vt[3]/D                                                *\n",
      "*Entries :   206033 : Total  Size=    4958894 bytes  File Size  =      57939 *\n",
      "*Baskets :      155 : Basket Size=      32000 bytes  Compression=  85.53     *\n",
      "*............................................................................*\n",
      "*Br   10 :mwe       : mwe/D                                                  *\n",
      "*Entries :   206033 : Total  Size=    1653249 bytes  File Size  =     415694 *\n",
      "*Baskets :       52 : Basket Size=      32000 bytes  Compression=   3.97     *\n",
      "*............................................................................*\n",
      "*Br   11 :mwt       : mwt/l                                                  *\n",
      "*Entries :   206033 : Total  Size=    1653249 bytes  File Size  =     710495 *\n",
      "*Baskets :       52 : Basket Size=      32000 bytes  Compression=   2.33     *\n",
      "*............................................................................*\n"
     ]
    }
   ],
   "source": [
    "//get data from sort00335.root file\n",
    "TFile *ipf = new TFile(\"~/data/FBcalibration/sort00335.root\");\n",
    "TTree *tree = (TTree*)ipf->Get(\"tree\");\n",
    "TCanvas *c1=new TCanvas(\"c1\",\"c1\");\n",
    "tree->SetBranchAddress(\"xhit\",&xhit);\n",
    "tree->SetBranchAddress(\"yhit\",&yhit);\n",
    "tree->SetBranchAddress(\"x\",&x);\n",
    "tree->SetBranchAddress(\"y\",&y);\n",
    "tree->SetBranchAddress(\"xe\",&xe);\n",
    "tree->SetBranchAddress(\"ye\",&ye);\n",
    "tree->SetBranchAddress(\"mwe\",&mwe);\n",
    "tree->SetBranchAddress(\"ve\",&ve);\n",
    "tree->SetBranchAddress(\"xt\",&xt);\n",
    "tree->SetBranchAddress(\"yt\",&yt);\n",
    "tree->SetBranchAddress(\"mwt\",&mwt);\n",
    "tree->SetBranchAddress(\"vt\",&vt);\n",
    "tree->Print();"
   ]
  },
  {
   "cell_type": "code",
   "execution_count": 3,
   "metadata": {},
   "outputs": [
    {
     "data": {
      "image/png": "[encoded data removed]",
      "text/plain": [
       "<IPython.core.display.Image object>"
      ]
     },
     "metadata": {},
     "output_type": "display_data"
    }
   ],
   "source": [
    "//front back correlation\n",
    "tree->Draw(\"xe:ye>>h(500,0,30000,500,0,30000)\",\"xhit==1&&yhit==1\",\"colz\");\n",
    "c1->SetLogz();\n",
    "c1->Draw();\n",
    "TF1 *fup = new TF1(\"fup\",\"[0]+[1]*x\",0,30000);\n",
    "TF1 *flow = new TF1(\"flow\",\"[0]+[1]*x\",0,30000);\n",
    "fup->SetParameters(1000,1.5);\n",
    "fup->Draw(\"same\");\n",
    "flow->SetParameters(-1000,0.8);\n",
    "flow->Draw(\"same\");"
   ]
  },
  {
   "cell_type": "markdown",
   "metadata": {},
   "source": [
    "## counts of front-back "
   ]
  },
  {
   "cell_type": "code",
   "execution_count": 4,
   "metadata": {
    "scrolled": false
   },
   "outputs": [
    {
     "data": {
      "image/png": "[encoded data removed]",
      "text/plain": [
       "<IPython.core.display.Image object>"
      ]
     },
     "metadata": {},
     "output_type": "display_data"
    },
    {
     "name": "stdout",
     "output_type": "stream",
     "text": [
      "front: 24  back: 102\n"
     ]
    }
   ],
   "source": [
    "THStack *ths = new THStack(\"ths\",\"DSSD: Counts in front-back strips\");\n",
    "tree->Draw(\"y>>hf(48,0,48)\",\"xhit==1&&yhit==1\");\n",
    "tree->Draw(\"x>>hb(128,0,128)\",\"xhit==1&&yhit==1\");\n",
    "hf->SetLineColor(3);\n",
    "hb->SetLineColor(4);\n",
    "ths->Add(hf);\n",
    "ths->Add(hb);\n",
    "ths->Draw(\"nostack\");\n",
    "c1->Draw();\n",
    "Int_t cntx,cnty;\n",
    "cnty=hf->GetMaximumBin();\n",
    "cntx=hb->GetMaximumBin();\n",
    "cout<<\"front: \"<<cnty<<\"  back: \"<<cntx<<endl;"
   ]
  },
  {
   "cell_type": "code",
   "execution_count": 5,
   "metadata": {},
   "outputs": [],
   "source": [
    "TString stree,hname;\n",
    "TString hcutall;\n",
    "TGraph *grx[128],*grxc[128];\n",
    "TH2F *hg[128];\n",
    "TF1 *fp1= new TF1(\"fp1\",\"pol1\",50,30000);\n",
    "fp1->SetLineColor(kGray);"
   ]
  },
  {
   "cell_type": "code",
   "execution_count": 6,
   "metadata": {},
   "outputs": [],
   "source": [
    "Double_t par[2];\n",
    "int ys=cnty;\n",
    "int xs=cntx;\n",
    "int xmax[128];\n",
    "TString sdx,sdy,sdx1,sdy1;"
   ]
  },
  {
   "cell_type": "markdown",
   "metadata": {},
   "source": [
    "## fitting and write histogram in subdirectory"
   ]
  },
  {
   "cell_type": "code",
   "execution_count": 7,
   "metadata": {
    "scrolled": true
   },
   "outputs": [
    {
     "name": "stdout",
     "output_type": "stream",
     "text": [
      "dssd = 90 ,     Nc=20 ,     xmax= 8091\n",
      "dssd = 91 ,     Nc=16 ,     xmax= 7571\n",
      "dssd = 92 ,     Nc=35 ,     xmax= 9334\n",
      "dssd = 93 ,     Nc=22 ,     xmax= 7502\n",
      "dssd = 94 ,     Nc=23 ,     xmax= 7972\n",
      "dssd = 95 ,     Nc=26 ,     xmax= 9770\n"
     ]
    }
   ],
   "source": [
    "for(Int_t i=90;i<96;i++) {\n",
    "    c1->Clear();\n",
    "    sdx.Form(\"xe[0]\");//d1x[ix]\n",
    "    sdy.Form(\"ye[0]\");//d1y[ys]\n",
    "    stree.Form(\"ye:xe>>hg%03d(1000,0,20000,1000,0,20000)\",i);\n",
    "    //cut for approaciate x-y range for a selected DSSD\n",
    "    TString hcut;\n",
    "    //cut for crosstalk veto\n",
    "    hcut.Form(\"xe[0]>50&&ye[0]>50&&xhit==1&&yhit==1&&x[0]==%d&&y[0]==%d\",i,5);\n",
    "    hname.Form(\"hg%03d\",i);\n",
    "    tree->Draw(stree.Data(),hcut.Data());\n",
    "    hg[i]=(TH2F*) gROOT->FindObject(hname);\n",
    "    grx[i] = new TGraph(tree->GetSelectedRows(),tree->GetV2(), tree->GetV1());\n",
    "    //grx[i]->Draw();\n",
    "    //hg[i]->Fit(fp1,\"ROB\");\n",
    "    //c1->SetLogz();\n",
    "    //c1->Draw();\n",
    "    //new TGraphs with refined cut range.\n",
    "    grxc[i]=new TGraph;\n",
    "    int ng=0;\n",
    "    xmax[i]=0;\n",
    "    if(grx[i]->GetN()>20) {\n",
    "        grx[i]->Fit(fp1,\"Q ROB\");\n",
    "        fp1->GetParameters(&par[0]);\n",
    "        for(int k=0; k<grx[i]->GetN(); k++) {\n",
    "            double x=grx[i]->GetX()[k];\n",
    "            double y=grx[i]->GetY()[k];\n",
    "            if (abs(y-(par[0]+par[1]*x))<20) {\n",
    "                grxc[i]->SetPoint(ng,x,y);\n",
    "                if(x>xmax[i]) xmax[i]=x;\n",
    "                ng++;\n",
    "            }\n",
    "        }\n",
    "    }\n",
    "    cout<<\"dssd = \"<<i<<\" ,     Nc=\"<<grxc[i]->GetN()<<\" ,     xmax= \"<<xmax[i]<<endl;\n",
    "}\n"
   ]
  },
  {
   "cell_type": "code",
   "execution_count": 8,
   "metadata": {},
   "outputs": [],
   "source": [
    "TFile *outfile = new TFile(\"out_hist.root\",\"recreate\");\n",
    "TDirectory *folder;\n",
    "folder = outfile->mkdir(\"hist\");\n",
    "folder->cd();\n",
    "for(Int_t i=90;i<96;i++) {\n",
    "    hg[i]->Write();\n",
    "}\n",
    "outfile->Close();"
   ]
  },
  {
   "cell_type": "code",
   "execution_count": 9,
   "metadata": {
    "scrolled": true
   },
   "outputs": [
    {
     "data": {
      "image/png": "[encoded data removed]",
      "text/plain": [
       "<IPython.core.display.Image object>"
      ]
     },
     "metadata": {},
     "output_type": "display_data"
    },
    {
     "name": "stdout",
     "output_type": "stream",
     "text": [
      "25\n",
      "\n",
      "****************************************\n",
      "Minimizer is Linear / Robust\n",
      "Chi2                      =      272.026\n",
      "NDf                       =           14\n",
      "p0                        =       5.1596\n",
      "p1                        =     0.895822\n"
     ]
    }
   ],
   "source": [
    "int i=91;\n",
    "cout<<grx[i]->GetN()<<endl;\n",
    "if(grx[i]->GetN()>20) {\n",
    "    grx[i]->Fit(fp1,\"ROB\");\n",
    "    fp1->Draw();\n",
    "    //  grx[ix]->Draw(\"AP same\");\n",
    "    // grxc[ix]->Draw(\"AP same\");\n",
    "    hg[i]->Draw(\"same\");\n",
    "    c1->SetLogz();\n",
    "    c1->Draw();\n",
    "}"
   ]
  },
  {
   "cell_type": "markdown",
   "metadata": {},
   "source": [
    "### 以正面第cnty条为基准，刻度x面的条，得到刻度系数，刻度使用二次多项式拟合"
   ]
  },
  {
   "cell_type": "code",
   "execution_count": 10,
   "metadata": {},
   "outputs": [],
   "source": [
    "TF1 *fp2= new TF1(\"fp2\",\"pol2\",50,10000);\n",
    "TString hresname,head,out;\n",
    "double par2[128][3], chi2ndf[128];\n",
    "ofstream fout(\"cali1x.txt\");\n",
    "TFile *hfout=new TFile(\"histout.root\",\"RECREATE\");\n",
    "TDirectory *herrdir,*hstatdir;\n",
    "hresdir=hfout->mkdir(\"hres\");\n",
    "hstatdir=hfout->mkdir(\"hstat\");\n",
    "TH2F *hres[128];\n",
    "TH1F *hcount=new TH1F(\"hcount\",\"Counts-strips for dssd\", 128,0,128);\n",
    "TH1F *hmaxval=new TH1F(\"hmaxval\",\"maxVal-strips for dssd\",128,0,128);\n",
    "TH1F *hchi2ndf=new TH1F(\"hchi2ndf\",\"chi2/ndf-strips for dssd\",128,0,128);"
   ]
  },
  {
   "cell_type": "code",
   "execution_count": 11,
   "metadata": {},
   "outputs": [
    {
     "name": "stdout",
     "output_type": "stream",
     "text": [
      "   i       p0         p1                  p2                chi2/ndf\n",
      "  90    -3.00   0.901444       -5.211602e-07           44.46\n",
      "  91    46.87   0.872671        2.953229e-06          157.33\n",
      "  92     3.70   0.873632        3.757796e-07           25.95\n",
      "  93    17.23   0.885115        4.902790e-07           10.01\n",
      "  94     4.72   0.890177        1.393734e-08           13.03\n",
      "  95   -13.87   0.911456       -9.731559e-07           57.68\n"
     ]
    }
   ],
   "source": [
    "head.Form(\"%4s%9s%11s%20s        %16s\",\"i\",\"p0\",\"p1\",\"p2\",\"chi2/ndf\");\n",
    "cout<<head<<endl;\n",
    "fout<<head<<endl;\n",
    "for(int i=90;i<96;i++) {\n",
    "    grxc[i]->Fit(fp2,\"Q ROB\");\n",
    "    fp2->GetParameters(&par2[i][0]);\n",
    "    //histogram\n",
    "    hcount->Fill(i,grxc[i]->GetN());\n",
    "    hmaxval->Fill(i,xmax[i]);\n",
    "    chi2ndf[i]=fp2->GetChisquare()/fp2->GetNDF();\n",
    "    hchi2ndf->Fill(i,chi2ndf[i]);\n",
    "    hcount->SetDirectory(hstatdir);\n",
    "    hmaxval->SetDirectory(hstatdir);\n",
    "    hchi2ndf->SetDirectory(hstatdir);\n",
    "    hcount->Sumw2(0);\n",
    "    hmaxval->Sumw2(0);\n",
    "    hchi2ndf->Sumw2(0);\n",
    "    hresname.Form(\"hres%02d\",i);\n",
    "    hres[i] = new TH2F(hresname,hresname,100,-50,50,1000,200,8000);\n",
    "    for(int j = 0;j < grx[i]->GetN(); j++){\n",
    "        double x=grx[i]->GetX()[j];\n",
    "        double y=grx[i]->GetY()[j];\n",
    "        x = y-(par2[i][0]+par2[i][1]*x+par2[i][2]*x*x);\n",
    "        hres[i]->Fill(x,y);\n",
    "    }\n",
    "    hres[i]->SetDirectory(hresdir);\n",
    "    out.Form(\"%4d%9.2f%11.6f%20e%16.2f\"  ,i  ,par2[i][0]  ,par2[i][1]  ,par2[i][2]  ,chi2ndf[i]);\n",
    "    cout<<out<<endl;\n",
    "    fout<<out<<endl;\n",
    "}\n",
    "hfout->Write();\n",
    "hfout->Close();\n",
    "fout.close();"
   ]
  },
  {
   "cell_type": "code",
   "execution_count": null,
   "metadata": {},
   "outputs": [],
   "source": []
  }
 ],
 "metadata": {
  "kernelspec": {
   "display_name": "ROOT C++",
   "language": "c++",
   "name": "root"
  },
  "language_info": {
   "codemirror_mode": "text/x-c++src",
   "file_extension": ".C",
   "mimetype": " text/x-c++src",
   "name": "c++"
  }
 },
 "nbformat": 4,
 "nbformat_minor": 2
}
